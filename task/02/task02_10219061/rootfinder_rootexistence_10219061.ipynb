{
 "cells": [
  {
   "cell_type": "code",
   "execution_count": 5,
   "metadata": {},
   "outputs": [
    {
     "data": {
      "image/png": "[encoded data removed]",
      "text/plain": [
       "<Figure size 432x288 with 1 Axes>"
      ]
     },
     "metadata": {
      "needs_background": "light"
     },
     "output_type": "display_data"
    },
    {
     "name": "stdout",
     "output_type": "stream",
     "text": [
      "xroot = [2, 3]\n",
      "yroot = [-18, 56]\n",
      "f(x1) f(x2) = -1008 < 0\n",
      "Root existence: True\n"
     ]
    }
   ],
   "source": [
    "import math\n",
    "import matplotlib.pyplot as plt\n",
    "\n",
    "def f(x):\n",
    "    y=3*x*x*x+8*x*x-23*x-28\n",
    "    return y\n",
    "\n",
    "x = [i * 0.03  for i in range(0, 100 + 1)]\n",
    "y = [f(i) for i in x]\n",
    "\n",
    "xroot = [2, 3]\n",
    "yroot = [f(i) for i in xroot]\n",
    "\n",
    "plt.grid()\n",
    "plt.plot(x, y, 'b-', xroot, yroot, 'ro', markerfacecolor='none', ms=10, lw=2)\n",
    "plt.show()\n",
    "\n",
    "print(\"xroot =\", xroot)\n",
    "print(\"yroot =\", yroot)\n",
    "if yroot[0] * yroot[1]<0 :\n",
    "    print(\"f(x1) f(x2) =\", yroot[0] * yroot[1], \"< 0\")\n",
    "    print(\"Root existence:\", True)\n",
    "else :\n",
    "    print(\"f(x1) f(x2) =\", yroot[0] * yroot[1], \"> 0\")\n",
    "    print(\"Root existence:\", False)"
   ]
  },
  {
   "cell_type": "code",
   "execution_count": null,
   "metadata": {},
   "outputs": [],
   "source": []
  }
 ],
 "metadata": {
  "kernelspec": {
   "display_name": "Python 3",
   "language": "python",
   "name": "python3"
  },
  "language_info": {
   "codemirror_mode": {
    "name": "ipython",
    "version": 3
   },
   "file_extension": ".py",
   "mimetype": "text/x-python",
   "name": "python",
   "nbconvert_exporter": "python",
   "pygments_lexer": "ipython3",
   "version": "3.7.4"
  }
 },
 "nbformat": 4,
 "nbformat_minor": 2
}
