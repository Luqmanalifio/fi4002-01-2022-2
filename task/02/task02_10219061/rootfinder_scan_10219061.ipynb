{
 "cells": [
  {
   "cell_type": "code",
   "execution_count": 17,
   "metadata": {},
   "outputs": [
    {
     "name": "stdout",
     "output_type": "stream",
     "text": [
      "Root existance between 2 and 3 : True\n"
     ]
    }
   ],
   "source": [
    "import math\n",
    "\n",
    "def f(x):\n",
    "    y=3*x*x*x+8*x*x-23*x-28\n",
    "    return y\n",
    "\n",
    "x = [i * 0.03  for i in range(0, 100 + 1)]\n",
    "y = [f(i) for i in x]\n",
    "\n",
    "xroot = [2, 3]\n",
    "yroot = [f(i) for i in xroot]\n",
    "\n",
    "print(\"Root existance between\", xroot[0], \"and\", xroot[1], \":\", end=' ')\n",
    "if yroot[0] * yroot[1] < 0:\n",
    "    print(True)\n",
    "else:\n",
    "    print(False)"
   ]
  },
  {
   "cell_type": "code",
   "execution_count": 18,
   "metadata": {},
   "outputs": [
    {
     "name": "stdout",
     "output_type": "stream",
     "text": [
      "Root exists between 2.33 and 2.34\n"
     ]
    }
   ],
   "source": [
    "\n",
    "N = 100\n",
    "xbeg = xroot[0]\n",
    "xend = xroot[1]\n",
    "dx = (xend - xbeg) / N\n",
    "\n",
    "\n",
    "sign = 0\n",
    "for i in range(N + 1):\n",
    "    xi = xbeg + i * dx\n",
    "    xi = round(xi * N) / N\n",
    "    \n",
    "    yi = f(xi)\n",
    "    if yi > 0:\n",
    "        cur_sign = 1\n",
    "    else:\n",
    "        cur_sign = -1\n",
    "    \n",
    "    if i == 0:\n",
    "        sign = cur_sign\n",
    "    \n",
    "    if cur_sign * sign < 0:\n",
    "        xleft = xi - dx\n",
    "        xright = xi\n",
    "        break\n",
    "\n",
    "print(\"Root exists between\", xleft, \"and\", xright)"
   ]
  },
  {
   "cell_type": "code",
   "execution_count": 19,
   "metadata": {},
   "outputs": [
    {
     "name": "stdout",
     "output_type": "stream",
     "text": [
      "Root exists between 2.3333 and 2.3334\n"
     ]
    }
   ],
   "source": [
    "\n",
    "N = 100\n",
    "xbeg = xleft\n",
    "xend = xright\n",
    "dx = (xend - xbeg) / N\n",
    "\n",
    "\n",
    "sign = 0\n",
    "cur_sign=0\n",
    "for i in range(0,N + 1):\n",
    "    xi = xbeg + i * dx\n",
    "    \n",
    "    yi = f(xi)\n",
    "    if yi > 0:\n",
    "        cur_sign = 1\n",
    "    else:\n",
    "        cur_sign = -1\n",
    "    \n",
    "    if i == 0:\n",
    "        sign = cur_sign\n",
    "    \n",
    "    if cur_sign * sign < 0:\n",
    "        xleft = xi - dx\n",
    "        xright = xi\n",
    "        break\n",
    "\n",
    "print(\"Root exists between\", xleft, \"and\", xright)"
   ]
  },
  {
   "cell_type": "code",
   "execution_count": 20,
   "metadata": {},
   "outputs": [
    {
     "name": "stdout",
     "output_type": "stream",
     "text": [
      "Root exists between 2.3333329999999997 and 2.333334\n"
     ]
    }
   ],
   "source": [
    "\n",
    "N = 100\n",
    "xbeg = xleft\n",
    "xend = xright\n",
    "dx = (xend - xbeg) / N\n",
    "\n",
    "\n",
    "sign = 0\n",
    "for i in range(N + 1):\n",
    "    xi = xbeg + i * dx\n",
    "    \n",
    "    yi = f(xi)\n",
    "    if yi > 0:\n",
    "        cur_sign = 1\n",
    "    else:\n",
    "        cur_sign = -1\n",
    "    \n",
    "    if i == 0:\n",
    "        sign = cur_sign\n",
    "    \n",
    "    if cur_sign * sign < 0:\n",
    "        xleft = xi - dx\n",
    "        xright = xi\n",
    "        break\n",
    "\n",
    "print(\"Root exists between\", xleft, \"and\", xright)"
   ]
  },
  {
   "cell_type": "code",
   "execution_count": null,
   "metadata": {},
   "outputs": [],
   "source": []
  }
 ],
 "metadata": {
  "kernelspec": {
   "display_name": "Python 3",
   "language": "python",
   "name": "python3"
  },
  "language_info": {
   "codemirror_mode": {
    "name": "ipython",
    "version": 3
   },
   "file_extension": ".py",
   "mimetype": "text/x-python",
   "name": "python",
   "nbconvert_exporter": "python",
   "pygments_lexer": "ipython3",
   "version": "3.7.4"
  }
 },
 "nbformat": 4,
 "nbformat_minor": 2
}
