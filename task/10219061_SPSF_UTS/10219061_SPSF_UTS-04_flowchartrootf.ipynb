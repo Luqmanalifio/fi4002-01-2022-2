{
 "cells": [
  {
   "cell_type": "markdown",
   "metadata": {},
   "source": [
    "Luqman Alifio Arhab\n",
    "\n",
    "10219061\n",
    "\n",
    "Flowchart & Root Finder"
   ]
  },
  {
   "cell_type": "code",
   "execution_count": 28,
   "metadata": {},
   "outputs": [
    {
     "data": {
      "text/html": [
       "<img src=\"https://mermaid.ink/img/CmdyYXBoIFRECiAgICBCLS0tPkkKICAgIEktLS0+UDEKICAgIFAxLS0tPm8xCiAgICBvMS0tLT5QMgogICAgUDItLS0+UDMKICAgIFAzLS0tPlA0CiAgICBQNC0tLT5QNQogICAgUDUtLS0+UDYKICAgIFA2LS0tPkMKICAgIEMtLS0+fFllc3xPCiAgICBDLS0tPnxOb3xvMQogICAgTy0tLT5FCiAgICBCKFsiQmVnaW4iXSkKICAgIElbLyJ4PHN1Yj4wPC9zdWI+LCB4PHN1Yj4xPC9zdWI+LCA8YnI+Zih4KSIvXQogICAgUDFbImkgPSAyIl0KICAgIFAyWyJmJyh4PHN1Yj5pLTE8L3N1Yj4pID0gW2YoeDxzdWI+aS0xPC9zdWI+KSAmbWRhc2g7IGYoeDxzdWI+aS0yPC9zdWI+KV08YnI+ICAgICAgLyAoeDxzdWI+aS0xPC9zdWI+ICZtZGFzaDsgeDxzdWI+aS0yPC9zdWI+KSJdCiAgICBQM1siJkRlbHRhO3ggPSBmKHg8c3ViPmktMTwvc3ViPikgLyBmJyh4PHN1Yj5pLTE8L3N1Yj4pIl0KICAgIFA0WyJ4PHN1Yj5pPC9zdWI+ID0geDxzdWI+aS0xPC9zdWI+ICAgICAgJm1kYXNoOyAmRGVsdGE7eCJdCiAgICBQNVsiJmVwc2lsb247ID0gfGYoeDxzdWI+aTwvc3ViPil8Il0KICAgIEN7IiZlcHNpbG9uOyAmbGU7ICZlcHNpbG9uOzxzdWI+bWF4PC9zdWI+In0KICAgIFA2WyJpID0gaSArIDEiXQogICAgRShbIkVuZCJdKQogICAgbzEoKCIgIikpCiAgICBPWy8ieDxzdWI+aTwvc3ViPiIvXQo=?!white\"/>"
      ],
      "text/plain": [
       "<IPython.core.display.Image object>"
      ]
     },
     "metadata": {},
     "output_type": "display_data"
    }
   ],
   "source": [
    "import base64\n",
    "from IPython.display import Image, display\n",
    "import matplotlib.pyplot as plt\n",
    "\n",
    "def mermaid(graph, **kwargs):\n",
    "    graphbytes = graph.encode('ascii')\n",
    "    base64_bytes = base64.b64encode(graphbytes)\n",
    "    base64_string = base64_bytes.decode('ascii')\n",
    "    bgcolor = '!white'\n",
    "    display(\n",
    "        Image(\n",
    "            url='https://mermaid.ink/img/'\n",
    "            + base64_string + '?' + bgcolor\n",
    "            )\n",
    "    )\n",
    "\n",
    "g = \"\"\"\n",
    "graph TD\n",
    "    B--->I\n",
    "    I--->P1\n",
    "    P1--->o1\n",
    "    o1--->P2\n",
    "    P2--->P3\n",
    "    P3--->P4\n",
    "    P4--->P5\n",
    "    P5--->P6\n",
    "    P6--->C\n",
    "    C--->|Yes|O\n",
    "    C--->|No|o1\n",
    "    O--->E\n",
    "    B([\"Begin\"])\n",
    "    I[/\"x<sub>0</sub>, x<sub>1</sub>, <br>f(x)\"/]\n",
    "    P1[\"i = 2\"]\n",
    "    P2[\"f'(x<sub>i-1</sub>) = [f(x<sub>i-1</sub>) &mdash; f(x<sub>i-2</sub>)]<br>\\\n",
    "      / (x<sub>i-1</sub> &mdash; x<sub>i-2</sub>)\"]\n",
    "    P3[\"&Delta;x = f(x<sub>i-1</sub>) / f'(x<sub>i-1</sub>)\"]\n",
    "    P4[\"x<sub>i</sub> = x<sub>i-1</sub>\\\n",
    "      &mdash; &Delta;x\"]\n",
    "    P5[\"&epsilon; = |f(x<sub>i</sub>)|\"]\n",
    "    C{\"&epsilon; &le; &epsilon;<sub>max</sub>\"}\n",
    "    P6[\"i = i + 1\"]\n",
    "    E([\"End\"])\n",
    "    o1((\" \"))\n",
    "    O[/\"x<sub>i</sub>\"/]\n",
    "\"\"\"\n",
    "mermaid(g)"
   ]
  },
  {
   "cell_type": "code",
   "execution_count": 8,
   "metadata": {},
   "outputs": [],
   "source": [
    "# function\n",
    "def f(x) :\n",
    "    y=x**3-2*x**2+x-1\n",
    "    return y"
   ]
  },
  {
   "cell_type": "code",
   "execution_count": 15,
   "metadata": {},
   "outputs": [
    {
     "name": "stdout",
     "output_type": "stream",
     "text": [
      "range baru : 1.7000000000000004 , 1.8000000000000005\n"
     ]
    }
   ],
   "source": [
    "# scan method\n",
    "\n",
    "def small_root(f, xbeg, xend, dx):\n",
    "    sign = 0\n",
    "    N=int((xend-xbeg)/2)\n",
    "    xi=xbeg\n",
    "    \n",
    "    while xi<xend :\n",
    "        yi = f(xi)\n",
    "        if yi > 0:\n",
    "            cur_sign = 1\n",
    "        else:\n",
    "            cur_sign = -1\n",
    "    \n",
    "        if xi == xbeg:\n",
    "            sign = cur_sign\n",
    "    \n",
    "        if cur_sign * sign < 0:\n",
    "            xleft = xi - dx\n",
    "            xright = xi\n",
    "            break\n",
    "        xi=xi+dx\n",
    "    print(\"range baru :\",xleft,\",\",xright)\n",
    "    \n",
    "xbeg=-1\n",
    "xend=2\n",
    "dx=0.1\n",
    "\n",
    "small_root(f,xbeg,xend,dx)"
   ]
  },
  {
   "cell_type": "code",
   "execution_count": 35,
   "metadata": {},
   "outputs": [
    {
     "name": "stdout",
     "output_type": "stream",
     "text": [
      "root hasil secant : 1.754877704852898\n"
     ]
    }
   ],
   "source": [
    "# secant root finder\n",
    "\n",
    "def secant_root(f, beg, end):\n",
    "    i = 2\n",
    "    eps = 1E-6\n",
    "    xdiff = 10\n",
    "    x0 = beg\n",
    "    x1 = end\n",
    "    xroot=0\n",
    "    x2=beg\n",
    "    while abs(f(x2)) > eps and i < 20:\n",
    "        x2 = x1 - (x1 - x0) * f(x1) / ( f(x1) - f(x0) )\n",
    "        if abs(f(x2))<=eps :\n",
    "            xroot = x2\n",
    "        x0=x1\n",
    "        x1=x2\n",
    "        i=i+1\n",
    "    \n",
    "    return x2\n",
    "\n",
    "    \n",
    "xbeg=-1\n",
    "xend=2\n",
    "\n",
    "root=secant_root(f,xbeg,xend)\n",
    "print(\"root hasil secant :\",root)"
   ]
  },
  {
   "cell_type": "markdown",
   "metadata": {},
   "source": [
    "Akar yang dihasilkan metode secant berada di dalam range yang ditentukan oleh metode scanning sehingga kedua metode berlaku dan\n",
    "dapat memperoleh hasil akar yang sama"
   ]
  },
  {
   "cell_type": "code",
   "execution_count": null,
   "metadata": {},
   "outputs": [],
   "source": []
  }
 ],
 "metadata": {
  "kernelspec": {
   "display_name": "Python 3",
   "language": "python",
   "name": "python3"
  },
  "language_info": {
   "codemirror_mode": {
    "name": "ipython",
    "version": 3
   },
   "file_extension": ".py",
   "mimetype": "text/x-python",
   "name": "python",
   "nbconvert_exporter": "python",
   "pygments_lexer": "ipython3",
   "version": "3.7.4"
  }
 },
 "nbformat": 4,
 "nbformat_minor": 2
}
