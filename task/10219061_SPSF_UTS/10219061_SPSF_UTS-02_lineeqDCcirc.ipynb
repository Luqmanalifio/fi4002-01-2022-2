{
 "cells": [
  {
   "cell_type": "markdown",
   "metadata": {},
   "source": [
    "Luqman Alifio Arhab\n",
    "\n",
    "10219061\n",
    "\n",
    "Linear Equation for DC Circuit"
   ]
  },
  {
   "cell_type": "code",
   "execution_count": 14,
   "metadata": {},
   "outputs": [
    {
     "ename": "SyntaxError",
     "evalue": "invalid syntax (<ipython-input-14-41094bcd76bd>, line 6)",
     "output_type": "error",
     "traceback": [
      "\u001b[1;36m  File \u001b[1;32m\"<ipython-input-14-41094bcd76bd>\"\u001b[1;36m, line \u001b[1;32m6\u001b[0m\n\u001b[1;33m    d += (R2 = elm.Resistor().label('$R_2$', loc='bottom'))\u001b[0m\n\u001b[1;37m             ^\u001b[0m\n\u001b[1;31mSyntaxError\u001b[0m\u001b[1;31m:\u001b[0m invalid syntax\n"
     ]
    }
   ],
   "source": [
    "# image\n",
    "\n",
    "import schemdraw\n",
    "import schemdraw.elements as elm\n",
    "with schemdraw.Drawing(file='schematic.svg') as d:\n",
    "    d += (R2 := elm.Resistor().label('$R_2$', loc='bottom'))\n",
    "    d += elm.BatteryCell().down().label('$\\epsilon_2$', loc='bottom').label(\"+\", ofst=(-0.4, 0.9))\n",
    "    d += elm.Resistor().left().label('$R_8$', loc='bottom')\n",
    "    d += elm.Resistor().up().label('$R_5$')\n",
    "    d += elm.Dot()\n",
    "    d += (R1 := elm.Resistor().left().label('$R_1$', loc='bottom'))\n",
    "    d += elm.BatteryCell().down().label('$\\epsilon_1$', loc='top').label(\"+\", ofst=(-0.4, 0.2))\n",
    "    d += elm.Dot()\n",
    "    d.push()\n",
    "    d += elm.Resistor().right().label('$R_6$', loc='bottom')\n",
    "    d.pop()\n",
    "    d += elm.BatteryCell().down().reverse().label('$\\epsilon_3$', loc='top').label(\"+\", ofst=(0.4, 0.2))\n",
    "    d += (R3 := elm.Resistor().right().label('$R_3$', loc='bottom'))\n",
    "    d += elm.Dot()\n",
    "    d.push()\n",
    "    d += (R4 := elm.Resistor().right().label('$R_4$', loc='bottom'))\n",
    "    d += elm.BatteryCell().up().label('$\\epsilon_4$', loc='bottom').label(\"+\", ofst=(-0.4, -0.8))\n",
    "    d += elm.Dot()\n",
    "    d.pop()\n",
    "    d += elm.Resistor().up().label('$R_7$', loc='top')\n",
    "    d += elm.Dot().color('black')\n",
    "    d += elm.CurrentLabel().at(R1).label('$I_1$')\n",
    "    d += elm.CurrentLabel().reverse().at(R2).label('$I_2$')\n",
    "    d += elm.CurrentLabel().at(R3).label('$I_3$')\n",
    "    d += elm.CurrentLabel().reverse().at(R4).label('$I_4$')"
   ]
  },
  {
   "cell_type": "code",
   "execution_count": 5,
   "metadata": {},
   "outputs": [
    {
     "name": "stdout",
     "output_type": "stream",
     "text": [
      "persamaan linear \n",
      "12 *I1 + 5 *I2 + 6 *I3 =  12\n",
      "5 *I1 + 15 *I2 + 8 *I4 =  15\n",
      "6 *I1 + 14 *I3 + 7 *I4 =  16\n",
      "8 *I2 + 7 *I3 + 19 *I4 =  19\n"
     ]
    }
   ],
   "source": [
    "# linear eq\n",
    "\n",
    "r1=1\n",
    "r2=2\n",
    "r3=3\n",
    "r4=4\n",
    "r5=5\n",
    "r6=6\n",
    "r7=7\n",
    "r8=8\n",
    "e1=12\n",
    "e2=15\n",
    "e3=16\n",
    "e4=19\n",
    "\n",
    "print('persamaan linear ')\n",
    "print(r1+r5+r6,'*I1 +' ,r5,'*I2 +',r6,'*I3 = ',e1)\n",
    "print(r5,'*I1 +' ,r2+r5+r8,'*I2 +',r8,'*I4 = ',e2)\n",
    "print(r6,'*I1 +' ,r3+r5+r6,'*I3 +',r7,'*I4 = ',e3)\n",
    "print(r8,'*I2 +' ,r7,'*I3 +',r4+r7+r8,'*I4 = ',e4)"
   ]
  },
  {
   "cell_type": "code",
   "execution_count": 10,
   "metadata": {},
   "outputs": [
    {
     "name": "stdout",
     "output_type": "stream",
     "text": [
      "matrix form\n",
      "| 12  5  6  0  | | I 1 | | 12 |\n",
      "| 5  15  0  8  | | I 2 |=| 15 |\n",
      "| 6  0  14  7  | | I 3 | | 16 |\n",
      "| 0  8  7  19  | | I 4 | | 19 |\n"
     ]
    }
   ],
   "source": [
    "#matrix form :\n",
    "mr=[[12,5,6,0],[5,15,0,8],[6,0,14,7],[0,8,7,19]]\n",
    "me=[e1,e2,e3,e4]\n",
    "\n",
    "print('matrix form')\n",
    "for i in range (4) :\n",
    "    print('| ',end='')\n",
    "    for j in range (4) :\n",
    "        print(mr[i][j],' ',end='')\n",
    "    print('| | I',i+1,'|',end='')\n",
    "    if i==1 :\n",
    "          print('=',end='')\n",
    "    else :\n",
    "        print(' ',end='')\n",
    "    print('|',me[i],'|')"
   ]
  },
  {
   "cell_type": "code",
   "execution_count": 11,
   "metadata": {},
   "outputs": [
    {
     "name": "stdout",
     "output_type": "stream",
     "text": [
      "augmented matrix\n",
      "| 12  5  6  0  12  |\n",
      "| 5  15  0  8  15  |\n",
      "| 6  0  14  7  16  |\n",
      "| 0  8  7  19  19  |\n"
     ]
    }
   ],
   "source": [
    "# augmented matrix\n",
    "\n",
    "am=[[12,5,6,0,e1],[5,15,0,8,e2],[6,0,14,7,e3],[0,8,7,19,e4]]\n",
    "\n",
    "\n",
    "print('augmented matrix')\n",
    "for i in range (4) :\n",
    "    print('| ',end='')\n",
    "    for j in range (5) :\n",
    "        print(am[i][j],' ',end='')\n",
    "    print('|')"
   ]
  },
  {
   "cell_type": "code",
   "execution_count": 12,
   "metadata": {},
   "outputs": [
    {
     "name": "stdout",
     "output_type": "stream",
     "text": [
      "I  0 bernilai : 0.33777124578542406\n",
      "I  1 bernilai : 0.6541021872568513\n",
      "I  2 bernilai : 0.7793723523817757\n",
      "I  3 bernilai : 0.43745137027751374\n"
     ]
    }
   ],
   "source": [
    "# solve\n",
    "import numpy as np\n",
    "\n",
    "I = np.linalg.solve(mr, me)\n",
    "for i in range (4) :\n",
    "    print(\"I \",i,\"bernilai :\",I[i])"
   ]
  },
  {
   "cell_type": "code",
   "execution_count": null,
   "metadata": {},
   "outputs": [],
   "source": []
  }
 ],
 "metadata": {
  "kernelspec": {
   "display_name": "Python 3",
   "language": "python",
   "name": "python3"
  },
  "language_info": {
   "codemirror_mode": {
    "name": "ipython",
    "version": 3
   },
   "file_extension": ".py",
   "mimetype": "text/x-python",
   "name": "python",
   "nbconvert_exporter": "python",
   "pygments_lexer": "ipython3",
   "version": "3.7.4"
  }
 },
 "nbformat": 4,
 "nbformat_minor": 2
}
