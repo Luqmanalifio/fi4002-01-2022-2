{
 "cells": [
  {
   "cell_type": "markdown",
   "metadata": {},
   "source": [
    "Luqman Alifio Arhab\n",
    "\n",
    "10219061\n",
    "\n",
    "Simple Statistics"
   ]
  },
  {
   "cell_type": "code",
   "execution_count": 6,
   "metadata": {},
   "outputs": [
    {
     "name": "stdout",
     "output_type": "stream",
     "text": [
      "nilai X ke- 0  :  4\n",
      "nilai X ke- 1  :  7\n",
      "nilai X ke- 2  :  5\n",
      "nilai X ke- 3  :  1\n",
      "nilai X ke- 4  :  3\n",
      "nilai X ke- 5  :  6\n",
      "nilai X ke- 6  :  4\n",
      "nilai X ke- 7  :  8\n",
      "nilai X ke- 8  :  5\n",
      "nilai X ke- 9  :  7\n",
      "nilai X ke- 10  :  2\n",
      "nilai X ke- 11  :  5\n",
      "nilai X ke- 12  :  6\n",
      "nilai X ke- 13  :  3\n",
      "nilai X ke- 14  :  9\n",
      "nilai X ke- 15  :  6\n",
      "nilai X ke- 16  :  8\n",
      "nilai X ke- 17  :  5\n",
      "nilai X ke- 18  :  7\n",
      "nilai X ke- 19  :  4\n",
      "jumlah data yang dimiliki X adalah : 20\n"
     ]
    }
   ],
   "source": [
    "# x and N\n",
    "X=[4,7,5,1,3,6,4,8,5,7,2,5,6,3,9,6,8,5,7,4]\n",
    "N=0\n",
    "\n",
    "for i in range (len(X)) :\n",
    "    print(\"nilai X ke-\",i,\" : \",X[i])\n",
    "    N=N+1\n",
    "    \n",
    "print(\"jumlah data yang dimiliki X adalah :\",N)"
   ]
  },
  {
   "cell_type": "code",
   "execution_count": 19,
   "metadata": {},
   "outputs": [
    {
     "name": "stdout",
     "output_type": "stream",
     "text": [
      "rata-rata nilai X adalah : 5.25\n",
      "median nilai X adalah : 5.0\n",
      "modus nilai X adalah : 5\n"
     ]
    }
   ],
   "source": [
    "# mean, median, modus\n",
    "sum=0\n",
    "sort=[100 for i in range(N)]\n",
    "mod=[0 for i in range (9)]\n",
    "\n",
    "for i in range (N) :\n",
    "    sum=sum+X[i]\n",
    "    for j in range (N) :\n",
    "        if X[i]<sort[j]:\n",
    "            k=19\n",
    "            while k>j :\n",
    "                sort[k]=sort[k-1]\n",
    "                k=k-1\n",
    "            sort[j]=X[i]\n",
    "            break\n",
    "    for l in range (9) :\n",
    "        if X[i]==l :\n",
    "            mod[l]=mod[l]+1\n",
    "#yul\n",
    "modus = 0\n",
    "for i in range (9) :\n",
    "    if mod[i]>mod[modus] :\n",
    "        modus = i\n",
    "\n",
    "half=int(N/2)\n",
    "avg=sum/N\n",
    "med=(sort[half]+sort[half-1])/2\n",
    "\n",
    "print(\"rata-rata nilai X adalah :\",avg)\n",
    "print(\"median nilai X adalah :\",med)\n",
    "print(\"modus nilai X adalah :\",modus)\n"
   ]
  },
  {
   "cell_type": "code",
   "execution_count": 20,
   "metadata": {},
   "outputs": [
    {
     "name": "stdout",
     "output_type": "stream",
     "text": [
      "nilai maksimal x adalah : 9\n",
      "nilai minimum x adalah : 1\n",
      "range nilai x adalah : 1  -  9\n"
     ]
    }
   ],
   "source": [
    "# xmax, xmin, xrange\n",
    "xmin=X[0]\n",
    "xmax=X[0]\n",
    "\n",
    "for i in range (N) :\n",
    "    if X[i]>xmax :\n",
    "        xmax=X[i]\n",
    "    if X[i]<xmin :\n",
    "        xmin=X[i]\n",
    "print(\"nilai maksimal x adalah :\", xmax)\n",
    "print(\"nilai minimum x adalah :\", xmin)\n",
    "print(\"range nilai x adalah :\", xmin,\" - \", xmax)"
   ]
  },
  {
   "cell_type": "code",
   "execution_count": 22,
   "metadata": {},
   "outputs": [
    {
     "name": "stdout",
     "output_type": "stream",
     "text": [
      "Varians nilai x adalah : 83.75\n",
      "standar deviasi nilai x adalah : 2.0994986870303363\n"
     ]
    }
   ],
   "source": [
    "# varians & standar deviasi\n",
    "var=0\n",
    "\n",
    "for i in range (N) :\n",
    "    var=var+(X[i]-avg)**2\n",
    "\n",
    "std=(var/(N-1))**0.5\n",
    "print(\"Varians nilai x adalah :\", var)\n",
    "print(\"standar deviasi nilai x adalah :\",std)"
   ]
  },
  {
   "cell_type": "code",
   "execution_count": null,
   "metadata": {},
   "outputs": [],
   "source": []
  },
  {
   "cell_type": "code",
   "execution_count": null,
   "metadata": {},
   "outputs": [],
   "source": []
  }
 ],
 "metadata": {
  "kernelspec": {
   "display_name": "Python 3",
   "language": "python",
   "name": "python3"
  },
  "language_info": {
   "codemirror_mode": {
    "name": "ipython",
    "version": 3
   },
   "file_extension": ".py",
   "mimetype": "text/x-python",
   "name": "python",
   "nbconvert_exporter": "python",
   "pygments_lexer": "ipython3",
   "version": "3.7.4"
  }
 },
 "nbformat": 4,
 "nbformat_minor": 2
}
